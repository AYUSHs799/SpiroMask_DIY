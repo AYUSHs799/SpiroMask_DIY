{
  "nbformat": 4,
  "nbformat_minor": 0,
  "metadata": {
    "colab": {
      "provenance": [],
      "gpuType": "T4",
      "collapsed_sections": [
        "R8cv1lQ3_1mR",
        "Ad011WATCpNZ",
        "IGnmuSGXC1bm"
      ]
    },
    "kernelspec": {
      "name": "python3",
      "display_name": "Python 3"
    },
    "language_info": {
      "name": "python"
    },
    "accelerator": "GPU"
  },
  "cells": [
    {
      "cell_type": "markdown",
      "source": [
        "## Library Imports and Setting up seeds"
      ],
      "metadata": {
        "id": "R8cv1lQ3_1mR"
      }
    },
    {
      "cell_type": "code",
      "source": [
        "from sklearn.metrics import mean_squared_error, mean_absolute_percentage_error,mean_absolute_error\n",
        "from sklearn.model_selection import train_test_split\n",
        "from sklearn.model_selection import LeaveOneOut\n",
        "from sklearn.preprocessing import MinMaxScaler\n",
        "from torch.utils.data import DataLoader\n",
        "import tensorflow as tf\n",
        "import torch.nn as nn\n",
        "from math import sqrt\n",
        "import pandas as pd\n",
        "import numpy as np\n",
        "import random\n",
        "import torch\n",
        "import os\n",
        "\n",
        "# Setting up Seed for reproducibility\n",
        "seed = 42\n",
        "random.seed(seed)\n",
        "os.environ['PYTHONHASHSEED'] = str(seed)\n",
        "np.random.seed(seed)\n",
        "torch.manual_seed(seed)\n",
        "torch.cuda.manual_seed(seed)\n",
        "torch.backends.cudnn.deterministic = True\n",
        "\n",
        "# Using GPU if available\n",
        "if torch.cuda.is_available():\n",
        "  device = torch.device('cuda:0')\n",
        "  print('Running on the GPU')\n",
        "else:\n",
        "  device = torch.device('cpu')\n",
        "  print('Running on the CPU')"
      ],
      "metadata": {
        "id": "CoR_oCPh0MDp",
        "colab": {
          "base_uri": "https://localhost:8080/"
        },
        "outputId": "32771e53-1106-49ed-f6e7-758810d9603d"
      },
      "execution_count": 60,
      "outputs": [
        {
          "output_type": "stream",
          "name": "stdout",
          "text": [
            "Running on the GPU\n"
          ]
        }
      ]
    },
    {
      "cell_type": "markdown",
      "source": [
        "## Loading Dataset"
      ],
      "metadata": {
        "id": "Ad011WATCpNZ"
      }
    },
    {
      "cell_type": "code",
      "source": [
        "# remove = ['P1', 'P11', 'P22', 'P25', 'P37', 'P4', 'P47', 'P48', 'P49', 'P54', 'P56', 'P59']\n",
        "# remove.extend( ['P16', 'P24', 'P67', 'P68', 'P72','P74','P75','P30'] )\n",
        "\n",
        "# Removing Samples where data had to be discarded due to some collection errors.\n",
        "remove = ['P1', 'P11','P2', 'P22', 'P25', 'P37', 'P4', 'P47', 'P48', 'P49','P50', 'P54', 'P56', 'P59','P16', 'P24', 'P67', 'P68', 'P72','P74','P75','P30','P51','P58']\n",
        "\n",
        "dataset = np.load('Autoclip_3000_5000_N95_FEATURES.npy',allow_pickle=True)\n",
        "dataset = dataset[~np.isin(dataset[:,0],remove)]\n",
        "\n",
        "X = pd.DataFrame(dataset[:,1:-2], dtype=float)\n",
        "X = torch.tensor(X.values, dtype=torch.float32)\n",
        "\n",
        "y_FEV1 = pd.DataFrame(dataset[:,-2], dtype=float)\n",
        "y_FEV1 = torch.tensor(y_FEV1.values, dtype=torch.float32)\n",
        "\n",
        "y_FVC = pd.DataFrame(dataset[:,-1], dtype=float)\n",
        "y_FVC = torch.tensor(y_FVC.values, dtype=torch.float32)\n",
        "\n",
        "\n",
        "print(X.shape,y_FEV1.shape,y_FVC.shape)"
      ],
      "metadata": {
        "id": "XBPUOHkPNqXp",
        "colab": {
          "base_uri": "https://localhost:8080/"
        },
        "outputId": "8a4edb65-403e-47f3-96e4-039db084be69"
      },
      "execution_count": 61,
      "outputs": [
        {
          "output_type": "stream",
          "name": "stdout",
          "text": [
            "torch.Size([47, 710]) torch.Size([47, 1]) torch.Size([47, 1])\n"
          ]
        }
      ]
    },
    {
      "cell_type": "markdown",
      "source": [
        "## Defining MLP Model"
      ],
      "metadata": {
        "id": "IGnmuSGXC1bm"
      }
    },
    {
      "cell_type": "code",
      "source": [
        "class MLP(nn.Module):\n",
        "  def __init__(self,input_size=710,output_size=1,layers=[64,64,16]):\n",
        "    super().__init__()\n",
        "\n",
        "    # initialize the input layer\n",
        "    self.linear1=nn.Linear(input_size,layers[0])\n",
        "    torch.nn.init.uniform_(self.linear1.weight,-sqrt(6/input_size), sqrt(6/input_size))\n",
        "\n",
        "    # initialize the hidden layers\n",
        "    self.linear2=nn.Linear(layers[0],layers[1])\n",
        "    torch.nn.init.uniform_(self.linear2.weight,-sqrt(6/layers[0]), sqrt(6/layers[0]))\n",
        "\n",
        "    # self.linear3=nn.Linear(layers[1],layers[2])\n",
        "    # torch.nn.init.uniform_(self.linear3.weight,-sqrt(6/layers[1]), sqrt(6/layers[1]))\n",
        "\n",
        "    # self.linear4=nn.Linear(layers[2],layers[3])\n",
        "    # torch.nn.init.uniform_(self.linear4.weight,-sqrt(6/layers[2]), sqrt(6/layers[2]))\n",
        "\n",
        "    # # initialize the output layer\n",
        "    self.linear5=nn.Linear(layers[1],layers[2])\n",
        "    torch.nn.init.uniform_(self.linear5.weight,-sqrt(6/layers[1]), sqrt(6/layers[1]))\n",
        "\n",
        "    self.linear_out=nn.Linear(layers[2],output_size)\n",
        "    torch.nn.init.uniform_(self.linear_out.weight,-sqrt(6/layers[2]), sqrt(6/layers[2]))\n",
        "\n",
        "\n",
        "\n",
        "  def forward(self,X):\n",
        "    # X = nn.functional.relu(self.linear1(X))\n",
        "    # X = nn.functional.relu(self.linear2(X))\n",
        "    # X = nn.functional.relu(self.linear3(X))\n",
        "    X = torch.sin(self.linear1(30*X))\n",
        "    X = torch.sin(self.linear2(30*X))\n",
        "    # X = torch.sin(self.linear3(50*X))\n",
        "    # X = torch.sin(self.linear4(50*X))\n",
        "    X = torch.sin(self.linear5(30*X))\n",
        "    X = self.linear_out(X)\n",
        "    return X\n",
        "\n",
        "model = MLP()\n",
        "print(model)\n",
        "criterion = nn.SmoothL1Loss()\n",
        "optimizer = torch.optim.Adam(model.parameters(),lr=0.01)"
      ],
      "metadata": {
        "colab": {
          "base_uri": "https://localhost:8080/"
        },
        "id": "2nnYtqe8NvL_",
        "outputId": "083520be-cc4e-4d5f-cfab-841468e57ed5"
      },
      "execution_count": 62,
      "outputs": [
        {
          "output_type": "stream",
          "name": "stdout",
          "text": [
            "MLP(\n",
            "  (linear1): Linear(in_features=710, out_features=64, bias=True)\n",
            "  (linear2): Linear(in_features=64, out_features=64, bias=True)\n",
            "  (linear5): Linear(in_features=64, out_features=16, bias=True)\n",
            "  (linear_out): Linear(in_features=16, out_features=1, bias=True)\n",
            ")\n"
          ]
        }
      ]
    },
    {
      "cell_type": "code",
      "source": [
        "def LOOCV_MLP(MLP,X,y,num_epochs= 100):\n",
        "\n",
        "    loo     = LeaveOneOut()\n",
        "    prog    = 0\n",
        "    tot     = len(X)\n",
        "    y_GT    = []\n",
        "    y_PT    = []\n",
        "\n",
        "    for i,(train_index, test_index) in enumerate(loo.split(X)):\n",
        "\n",
        "        prog = prog + 1\n",
        "        print(\"Fold : {0}/{1}\".format(prog,tot))\n",
        "\n",
        "        X_Train, X_Test = X[train_index],X[test_index]\n",
        "        y_Train, y_Test = y[train_index],y[test_index]\n",
        "\n",
        "        model = MLP(input_size=X.shape[1]).to(device)\n",
        "        criterion = nn.SmoothL1Loss()\n",
        "        optimizer = torch.optim.Adam(model.parameters(),lr=0.01)\n",
        "\n",
        "        train_dataset = DataLoader(list(zip(X_Train,y_Train)), shuffle=True, batch_size=10)\n",
        "        test_dataset = DataLoader(list(zip(X_Test,y_Test)), shuffle=True, batch_size=1)\n",
        "\n",
        "        for epochs in range(num_epochs):\n",
        "            for data,target in train_dataset:\n",
        "                data,target = data.to(device),target.to(device)\n",
        "                out = model(data)\n",
        "                loss = criterion(out, target)\n",
        "                optimizer.zero_grad()\n",
        "                loss.backward()\n",
        "                optimizer.step()\n",
        "\n",
        "        for data,target in test_dataset:\n",
        "                y_GT.append(target.cpu().detach().numpy().ravel())\n",
        "                out = model(data.to(device))\n",
        "                y_PT.append(out.cpu().detach().numpy().ravel())\n",
        "\n",
        "    print(\"Training Completed \\n\")\n",
        "\n",
        "    print(\"=-=-=-=-=-=-=-=-=-=-=-=-=-=-=-=-=-=-=-=-=-=\")\n",
        "    print(\"MLP metrics : \")\n",
        "    print(\"\\tMean Absolute Percentage Error : \" , 100 * mean_absolute_percentage_error(y_GT,y_PT))\n",
        "    print(\"\\tMean Aabsolute Error : \" , mean_absolute_error(y_GT,y_PT))\n",
        "    print(\"\\tMean Square Error : \" , mean_squared_error(y_GT,y_PT,squared=False))\n",
        "    print(\"=-=-=-=-=-=-=-=-=-=-=-=-=-=-=-=-=-=-=-=-=-=\")"
      ],
      "metadata": {
        "id": "UOoreM6wNvIr"
      },
      "execution_count": 63,
      "outputs": []
    },
    {
      "cell_type": "markdown",
      "source": [
        "## Training MLP model for estimating FEV1"
      ],
      "metadata": {
        "id": "Sc4J2THjhg_6"
      }
    },
    {
      "cell_type": "code",
      "source": [
        "LOOCV_MLP(MLP,X,y_FEV1,num_epochs=100)"
      ],
      "metadata": {
        "colab": {
          "base_uri": "https://localhost:8080/"
        },
        "id": "AKJYfi78hMp9",
        "outputId": "e9c40a6c-ae35-4793-974d-5832f1ac4a9f"
      },
      "execution_count": 64,
      "outputs": [
        {
          "output_type": "stream",
          "name": "stdout",
          "text": [
            "Fold : 1/47\n",
            "Fold : 2/47\n",
            "Fold : 3/47\n",
            "Fold : 4/47\n",
            "Fold : 5/47\n",
            "Fold : 6/47\n",
            "Fold : 7/47\n",
            "Fold : 8/47\n",
            "Fold : 9/47\n",
            "Fold : 10/47\n",
            "Fold : 11/47\n",
            "Fold : 12/47\n",
            "Fold : 13/47\n",
            "Fold : 14/47\n",
            "Fold : 15/47\n",
            "Fold : 16/47\n",
            "Fold : 17/47\n",
            "Fold : 18/47\n",
            "Fold : 19/47\n",
            "Fold : 20/47\n",
            "Fold : 21/47\n",
            "Fold : 22/47\n",
            "Fold : 23/47\n",
            "Fold : 24/47\n",
            "Fold : 25/47\n",
            "Fold : 26/47\n",
            "Fold : 27/47\n",
            "Fold : 28/47\n",
            "Fold : 29/47\n",
            "Fold : 30/47\n",
            "Fold : 31/47\n",
            "Fold : 32/47\n",
            "Fold : 33/47\n",
            "Fold : 34/47\n",
            "Fold : 35/47\n",
            "Fold : 36/47\n",
            "Fold : 37/47\n",
            "Fold : 38/47\n",
            "Fold : 39/47\n",
            "Fold : 40/47\n",
            "Fold : 41/47\n",
            "Fold : 42/47\n",
            "Fold : 43/47\n",
            "Fold : 44/47\n",
            "Fold : 45/47\n",
            "Fold : 46/47\n",
            "Fold : 47/47\n",
            "Training Completed \n",
            "\n",
            "=-=-=-=-=-=-=-=-=-=-=-=-=-=-=-=-=-=-=-=-=-=\n",
            "MLP metrics : \n",
            "\tMean Absolute Percentage Error :  5.840282887220383\n",
            "\tMean Aabsolute Error :  0.18141241\n",
            "\tMean Square Error :  0.24212278\n",
            "=-=-=-=-=-=-=-=-=-=-=-=-=-=-=-=-=-=-=-=-=-=\n"
          ]
        }
      ]
    },
    {
      "cell_type": "markdown",
      "source": [
        "## Training MLP model for estimating FVC"
      ],
      "metadata": {
        "id": "E-x0Yty5kp2l"
      }
    },
    {
      "cell_type": "code",
      "source": [
        "LOOCV_MLP(MLP,X,y_FVC,num_epochs=100)"
      ],
      "metadata": {
        "colab": {
          "base_uri": "https://localhost:8080/"
        },
        "id": "8bR9GiVdNvGS",
        "outputId": "edb73b73-2995-4ee8-eea4-31ce55deafac"
      },
      "execution_count": 65,
      "outputs": [
        {
          "output_type": "stream",
          "name": "stdout",
          "text": [
            "Fold : 1/47\n",
            "Fold : 2/47\n",
            "Fold : 3/47\n",
            "Fold : 4/47\n",
            "Fold : 5/47\n",
            "Fold : 6/47\n",
            "Fold : 7/47\n",
            "Fold : 8/47\n",
            "Fold : 9/47\n",
            "Fold : 10/47\n",
            "Fold : 11/47\n",
            "Fold : 12/47\n",
            "Fold : 13/47\n",
            "Fold : 14/47\n",
            "Fold : 15/47\n",
            "Fold : 16/47\n",
            "Fold : 17/47\n",
            "Fold : 18/47\n",
            "Fold : 19/47\n",
            "Fold : 20/47\n",
            "Fold : 21/47\n",
            "Fold : 22/47\n",
            "Fold : 23/47\n",
            "Fold : 24/47\n",
            "Fold : 25/47\n",
            "Fold : 26/47\n",
            "Fold : 27/47\n",
            "Fold : 28/47\n",
            "Fold : 29/47\n",
            "Fold : 30/47\n",
            "Fold : 31/47\n",
            "Fold : 32/47\n",
            "Fold : 33/47\n",
            "Fold : 34/47\n",
            "Fold : 35/47\n",
            "Fold : 36/47\n",
            "Fold : 37/47\n",
            "Fold : 38/47\n",
            "Fold : 39/47\n",
            "Fold : 40/47\n",
            "Fold : 41/47\n",
            "Fold : 42/47\n",
            "Fold : 43/47\n",
            "Fold : 44/47\n",
            "Fold : 45/47\n",
            "Fold : 46/47\n",
            "Fold : 47/47\n",
            "Training Completed \n",
            "\n",
            "=-=-=-=-=-=-=-=-=-=-=-=-=-=-=-=-=-=-=-=-=-=\n",
            "MLP metrics : \n",
            "\tMean Absolute Percentage Error :  5.930667370557785\n",
            "\tMean Aabsolute Error :  0.19943205\n",
            "\tMean Square Error :  0.28832754\n",
            "=-=-=-=-=-=-=-=-=-=-=-=-=-=-=-=-=-=-=-=-=-=\n"
          ]
        }
      ]
    },
    {
      "cell_type": "code",
      "source": [],
      "metadata": {
        "id": "TRpK4aWYek2W"
      },
      "execution_count": 65,
      "outputs": []
    }
  ]
}